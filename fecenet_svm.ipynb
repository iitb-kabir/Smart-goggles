{
  "cells": [
    {
      "cell_type": "code",
      "execution_count": null,
      "metadata": {
        "colab": {
          "base_uri": "https://localhost:8080/"
        },
        "id": "wEN0Kr-ztSUS",
        "outputId": "17ce3b3a-dec7-4ba4-aea2-f3bda8e665d3"
      },
      "outputs": [
        {
          "name": "stdout",
          "output_type": "stream",
          "text": [
            "Mounted at /content/drive\n"
          ]
        }
      ],
      "source": [
        "# from google.colab import drive\n",
        "# drive.mount('/content/drive')"
      ]
    },
    {
      "cell_type": "code",
      "execution_count": null,
      "metadata": {
        "colab": {
          "base_uri": "https://localhost:8080/"
        },
        "collapsed": true,
        "id": "CBnUwTeVtXSZ",
        "outputId": "fce222b3-7b01-4ab0-f973-bbc824c6d9b7"
      },
      "outputs": [],
      "source": [
        "# !unzip \"/content/drive/MyDrive/facedata_croped.zip\" -d\"/content/drive/MyDrive/FaceNet_own_data\""
      ]
    },
    {
      "cell_type": "code",
      "execution_count": 3,
      "metadata": {
        "colab": {
          "base_uri": "https://localhost:8080/",
          "height": 1000
        },
        "id": "4yrQYbYvUcVU",
        "outputId": "a6b46c8a-1a92-45a6-d497-e274d7ee75b3"
      },
      "outputs": [],
      "source": [
        "# !pip install facenet-pytorch"
      ]
    },
    {
      "cell_type": "code",
      "execution_count": 1,
      "metadata": {
        "colab": {
          "base_uri": "https://localhost:8080/"
        },
        "id": "rxBg674pth9Q",
        "outputId": "5ebd2250-e396-48a0-d569-97acae945a6a"
      },
      "outputs": [],
      "source": [
        "# !pip install torch torchvision torchaudio\n",
        "# !pip install mtcnn pillow numpy scikit-learn\n"
      ]
    },
    {
      "cell_type": "code",
      "execution_count": 2,
      "metadata": {
        "id": "ntreqAietncd"
      },
      "outputs": [],
      "source": [
        "import os\n",
        "import torch\n",
        "import numpy as np\n",
        "from torch.utils.data import Dataset, DataLoader, random_split\n",
        "from torchvision import transforms\n",
        "from PIL import Image\n",
        "from facenet_pytorch import MTCNN, InceptionResnetV1\n",
        "from sklearn.preprocessing import LabelEncoder, Normalizer\n",
        "from sklearn.svm import SVC"
      ]
    },
    {
      "cell_type": "code",
      "execution_count": null,
      "metadata": {
        "colab": {
          "base_uri": "https://localhost:8080/"
        },
        "id": "xYs3mYtIuI8j",
        "outputId": "c3f920cf-0f06-4abf-fac1-5f3f7ea4a6d2"
      },
      "outputs": [
        {
          "name": "stdout",
          "output_type": "stream",
          "text": [
            "['Anthony Mackie', 'Antoine Griezmann', 'Benedict Cumberbatch', 'Brie Larson', 'Bruno Fernandes', 'Chris Evans', 'Chris Hemsworth', 'Cristiano Ronaldo', 'Danai Gurira', 'Dave Bautista', 'Don Cheadle', 'Elizabeth Olsen', 'Erling Haaland', 'Florence Pugh', 'Gwyneth Paltrow', 'Harry Kane', 'Hayley Atwell', 'Jeremy Renner', 'Joshua Kimmich', 'João Félix', 'Jude Bellingham', 'Karen Gillan', 'Karim Benzema', 'Kevin De Bruyne', 'Kylian Mbappé', 'Letitia Wright', 'Lionel Messi', 'Luka Modrić', 'Marcus Rashford', 'Mark Ruffalo', 'Mohamed Salah', 'Neymar', 'Paul Rudd', 'Paulo Dybala', 'Pedri', 'Phil Foden', 'Robert Downey Jr', 'Robert Lewandowski', 'Romelu Lukaku', 'Sadio Mané', 'Samuel L. Jackson', 'Scarlett Johansson', 'Sebastian Stan', 'Son Heung-min', 'Tom Hiddleston', 'Tom Holland', 'Vinícius Júnior', 'Virgil van Dijk', 'Zoe Saldaña']\n"
          ]
        }
      ],
      "source": [
        "base_path = r\"C:\\Users\\nasir\\OneDrive\\Desktop\\facedata_croped\"\n",
        "all_identities = os.listdir(base_path)[:]  \n",
        "print(all_identities)"
      ]
    },
    {
      "cell_type": "code",
      "execution_count": 5,
      "metadata": {
        "id": "uvlsm8LhuOwg"
      },
      "outputs": [],
      "source": [
        "\n",
        "mtcnn = MTCNN(image_size=160, margin=0)\n",
        "def extract_face(img_path):\n",
        "    img = Image.open(img_path).convert('RGB')\n",
        "    face = mtcnn(img)\n",
        "    if face is not None:\n",
        "        return face\n",
        "    return None\n"
      ]
    },
    {
      "cell_type": "code",
      "execution_count": 6,
      "metadata": {
        "colab": {
          "base_uri": "https://localhost:8080/"
        },
        "id": "PXy273jjD44I",
        "outputId": "20877897-8ead-4174-ce11-741a76d7fce5"
      },
      "outputs": [
        {
          "name": "stdout",
          "output_type": "stream",
          "text": [
            "Total faces loaded: 1148\n"
          ]
        }
      ],
      "source": [
        "data = []\n",
        "labels = []\n",
        "for label, identity in enumerate(all_identities):\n",
        "    identity_path = os.path.join(base_path, identity)\n",
        "    images = os.listdir(identity_path)[:]\n",
        "    for img_name in images:\n",
        "        img_path = os.path.join(identity_path, img_name)\n",
        "        face = extract_face(img_path)\n",
        "        if face is not None:\n",
        "            data.append(face)\n",
        "            labels.append(label)\n",
        "print(f\"Total faces loaded: {len(data)}\")\n"
      ]
    },
    {
      "cell_type": "code",
      "execution_count": 7,
      "metadata": {
        "id": "gC5SlLPwIXjo"
      },
      "outputs": [],
      "source": [
        "faces = torch.stack(data)\n",
        "labels = np.array(labels)\n"
      ]
    },
    {
      "cell_type": "code",
      "execution_count": null,
      "metadata": {},
      "outputs": [],
      "source": [
        "device = torch.device('cuda' if torch.cuda.is_available() else 'cpu')\n",
        "print(device)"
      ]
    },
    {
      "cell_type": "code",
      "execution_count": null,
      "metadata": {
        "colab": {
          "base_uri": "https://localhost:8080/",
          "height": 49,
          "referenced_widgets": [
            "6bb808bb60894ee086b7829186b33cd9",
            "0b6a14893a8f4b59a576425849e5b0dd",
            "e16fa94ead3245c4bf75d19671e7ac6e",
            "fd4fc05f863d401ea6f0325ec302b8d7",
            "ac7596538d5142aa83e3e560e3aa150e",
            "76af6b5626754d308374ab90d20e4e95",
            "ea41ae6da3714adcbd5262fc9dda82aa",
            "6c9bbd2f4b99403082fb82bf4b743809",
            "90c7e9f45ba047c887c22ce2a02f29a3",
            "45edf350ad6446d0bbbe63190da91ed3",
            "9756969b1bff43c2a41d5bd6a048edc9"
          ]
        },
        "id": "DIvmn0LsU4KL",
        "outputId": "c635943b-1447-4ddf-ff69-2ccc0f6d4e32"
      },
      "outputs": [
        {
          "data": {
            "application/vnd.jupyter.widget-view+json": {
              "model_id": "55b18a687c124b7dae8904b03230e5c3",
              "version_major": 2,
              "version_minor": 0
            },
            "text/plain": [
              "  0%|          | 0.00/107M [00:00<?, ?B/s]"
            ]
          },
          "metadata": {},
          "output_type": "display_data"
        }
      ],
      "source": [
        "\n",
        "facenet = InceptionResnetV1(pretrained='vggface2').eval().to(device)\n",
        "\n",
        "embeddings = []\n",
        "with torch.no_grad():\n",
        "    for face in faces:\n",
        "        face = face.unsqueeze(0).to(device)\n",
        "        embedding = facenet(face)\n",
        "        embeddings.append(embedding.cpu().numpy())\n",
        "embeddings = np.vstack(embeddings)\n"
      ]
    },
    {
      "cell_type": "code",
      "execution_count": 9,
      "metadata": {
        "id": "DmlKXGiDRgQZ"
      },
      "outputs": [],
      "source": [
        "# Normalize embeddings\n",
        "in_encoder = Normalizer(norm='l2')\n",
        "embeddings_norm = in_encoder.transform(embeddings)\n",
        "\n",
        "# Encode labels\n",
        "out_encoder = LabelEncoder()\n",
        "labels_enc = out_encoder.fit_transform(labels)\n"
      ]
    },
    {
      "cell_type": "code",
      "execution_count": 10,
      "metadata": {
        "colab": {
          "base_uri": "https://localhost:8080/"
        },
        "id": "YKNaW5Q1_AUD",
        "outputId": "b51428dd-76c3-4ad3-d38c-24d7283428ae"
      },
      "outputs": [
        {
          "name": "stdout",
          "output_type": "stream",
          "text": [
            "SVM classifier trained.\n"
          ]
        }
      ],
      "source": [
        "from sklearn.model_selection import train_test_split\n",
        "\n",
        "X_train, X_test, y_train, y_test = train_test_split(\n",
        "    embeddings_norm, labels_enc, test_size=0.2, random_state=42, stratify=labels_enc\n",
        ")\n",
        "\n",
        "model_svm = SVC(kernel='linear', probability=True)\n",
        "model_svm.fit(X_train, y_train)\n",
        "print(\"SVM classifier trained.\")\n",
        "\n",
        "\n"
      ]
    },
    {
      "cell_type": "code",
      "execution_count": 11,
      "metadata": {
        "colab": {
          "base_uri": "https://localhost:8080/"
        },
        "id": "ViMGx510ulbg",
        "outputId": "230785de-45c1-40cc-a573-09cdb49f6f83"
      },
      "outputs": [
        {
          "name": "stdout",
          "output_type": "stream",
          "text": [
            "Test Accuracy: 0.9130\n"
          ]
        }
      ],
      "source": [
        "acc = model_svm.score(X_test, y_test)\n",
        "print(f\"Test Accuracy: {acc:.4f}\")\n"
      ]
    },
    {
      "cell_type": "code",
      "execution_count": null,
      "metadata": {
        "colab": {
          "base_uri": "https://localhost:8080/"
        },
        "id": "JNUDGYgdur3h",
        "outputId": "ccdedac9-7801-478e-d957-ca1230c66740"
      },
      "outputs": [],
      "source": [
        "## prediction\n",
        "def predict_identity(image_path, facenet, model_svm, in_encoder, out_encoder, mtcnn, device):\n",
        "    img = Image.open(image_path).convert('RGB')\n",
        "    face = mtcnn(img)\n",
        "    if face is not None:\n",
        "        face = face.unsqueeze(0).to(device)\n",
        "        with torch.no_grad():\n",
        "            embedding = facenet(face).cpu().numpy()\n",
        "        embedding = in_encoder.transform(embedding)\n",
        "        yhat_class = model_svm.predict(embedding)\n",
        "        yhat_prob = model_svm.predict_proba(embedding)\n",
        "        class_index = yhat_class[0]\n",
        "        class_probability = yhat_prob[0, class_index] * 100\n",
        "        predict_name = out_encoder.inverse_transform(yhat_class)\n",
        "        return predict_name[0], class_probability\n",
        "    else:\n",
        "        return None, None\n",
        "\n",
        "# Example usage\n",
        "image_path = '/content/Screenshot 2025-07-04 185305.png'\n",
        "identity, confidence = predict_identity(\n",
        "    image_path, facenet, model_svm, in_encoder, out_encoder, mtcnn, device\n",
        ")\n",
        "if identity is not None:\n",
        "    print(f'Predicted Identity: {all_identities[identity]}, Confidence: {confidence:.2f}')\n",
        "else:\n",
        "    print(\"No face detected or error occurred.\")\n"
      ]
    },
    {
      "cell_type": "code",
      "execution_count": 12,
      "metadata": {
        "id": "0A30p62xxFZu"
      },
      "outputs": [
        {
          "data": {
            "text/plain": [
              "['all_identities.pkl']"
            ]
          },
          "execution_count": 12,
          "metadata": {},
          "output_type": "execute_result"
        }
      ],
      "source": [
        "import joblib\n",
        "\n",
        "# Save the trained components\n",
        "joblib.dump(model_svm, 'svm_model.pkl')\n",
        "joblib.dump(in_encoder, 'in_encoder.pkl')\n",
        "joblib.dump(out_encoder, 'out_encoder.pkl')\n",
        "joblib.dump(all_identities, 'all_identities.pkl')"
      ]
    },
    {
      "cell_type": "code",
      "execution_count": null,
      "metadata": {},
      "outputs": [],
      "source": []
    }
  ],
  "metadata": {
    "accelerator": "GPU",
    "colab": {
      "gpuType": "T4",
      "provenance": []
    },
    "kernelspec": {
      "display_name": "Python 3",
      "name": "python3"
    },
    "language_info": {
      "codemirror_mode": {
        "name": "ipython",
        "version": 3
      },
      "file_extension": ".py",
      "mimetype": "text/x-python",
      "name": "python",
      "nbconvert_exporter": "python",
      "pygments_lexer": "ipython3",
      "version": "3.12.2"
    },
    "widgets": {
      "application/vnd.jupyter.widget-state+json": {
        "0b6a14893a8f4b59a576425849e5b0dd": {
          "model_module": "@jupyter-widgets/controls",
          "model_module_version": "1.5.0",
          "model_name": "HTMLModel",
          "state": {
            "_dom_classes": [],
            "_model_module": "@jupyter-widgets/controls",
            "_model_module_version": "1.5.0",
            "_model_name": "HTMLModel",
            "_view_count": null,
            "_view_module": "@jupyter-widgets/controls",
            "_view_module_version": "1.5.0",
            "_view_name": "HTMLView",
            "description": "",
            "description_tooltip": null,
            "layout": "IPY_MODEL_76af6b5626754d308374ab90d20e4e95",
            "placeholder": "​",
            "style": "IPY_MODEL_ea41ae6da3714adcbd5262fc9dda82aa",
            "value": "100%"
          }
        },
        "45edf350ad6446d0bbbe63190da91ed3": {
          "model_module": "@jupyter-widgets/base",
          "model_module_version": "1.2.0",
          "model_name": "LayoutModel",
          "state": {
            "_model_module": "@jupyter-widgets/base",
            "_model_module_version": "1.2.0",
            "_model_name": "LayoutModel",
            "_view_count": null,
            "_view_module": "@jupyter-widgets/base",
            "_view_module_version": "1.2.0",
            "_view_name": "LayoutView",
            "align_content": null,
            "align_items": null,
            "align_self": null,
            "border": null,
            "bottom": null,
            "display": null,
            "flex": null,
            "flex_flow": null,
            "grid_area": null,
            "grid_auto_columns": null,
            "grid_auto_flow": null,
            "grid_auto_rows": null,
            "grid_column": null,
            "grid_gap": null,
            "grid_row": null,
            "grid_template_areas": null,
            "grid_template_columns": null,
            "grid_template_rows": null,
            "height": null,
            "justify_content": null,
            "justify_items": null,
            "left": null,
            "margin": null,
            "max_height": null,
            "max_width": null,
            "min_height": null,
            "min_width": null,
            "object_fit": null,
            "object_position": null,
            "order": null,
            "overflow": null,
            "overflow_x": null,
            "overflow_y": null,
            "padding": null,
            "right": null,
            "top": null,
            "visibility": null,
            "width": null
          }
        },
        "6bb808bb60894ee086b7829186b33cd9": {
          "model_module": "@jupyter-widgets/controls",
          "model_module_version": "1.5.0",
          "model_name": "HBoxModel",
          "state": {
            "_dom_classes": [],
            "_model_module": "@jupyter-widgets/controls",
            "_model_module_version": "1.5.0",
            "_model_name": "HBoxModel",
            "_view_count": null,
            "_view_module": "@jupyter-widgets/controls",
            "_view_module_version": "1.5.0",
            "_view_name": "HBoxView",
            "box_style": "",
            "children": [
              "IPY_MODEL_0b6a14893a8f4b59a576425849e5b0dd",
              "IPY_MODEL_e16fa94ead3245c4bf75d19671e7ac6e",
              "IPY_MODEL_fd4fc05f863d401ea6f0325ec302b8d7"
            ],
            "layout": "IPY_MODEL_ac7596538d5142aa83e3e560e3aa150e"
          }
        },
        "6c9bbd2f4b99403082fb82bf4b743809": {
          "model_module": "@jupyter-widgets/base",
          "model_module_version": "1.2.0",
          "model_name": "LayoutModel",
          "state": {
            "_model_module": "@jupyter-widgets/base",
            "_model_module_version": "1.2.0",
            "_model_name": "LayoutModel",
            "_view_count": null,
            "_view_module": "@jupyter-widgets/base",
            "_view_module_version": "1.2.0",
            "_view_name": "LayoutView",
            "align_content": null,
            "align_items": null,
            "align_self": null,
            "border": null,
            "bottom": null,
            "display": null,
            "flex": null,
            "flex_flow": null,
            "grid_area": null,
            "grid_auto_columns": null,
            "grid_auto_flow": null,
            "grid_auto_rows": null,
            "grid_column": null,
            "grid_gap": null,
            "grid_row": null,
            "grid_template_areas": null,
            "grid_template_columns": null,
            "grid_template_rows": null,
            "height": null,
            "justify_content": null,
            "justify_items": null,
            "left": null,
            "margin": null,
            "max_height": null,
            "max_width": null,
            "min_height": null,
            "min_width": null,
            "object_fit": null,
            "object_position": null,
            "order": null,
            "overflow": null,
            "overflow_x": null,
            "overflow_y": null,
            "padding": null,
            "right": null,
            "top": null,
            "visibility": null,
            "width": null
          }
        },
        "76af6b5626754d308374ab90d20e4e95": {
          "model_module": "@jupyter-widgets/base",
          "model_module_version": "1.2.0",
          "model_name": "LayoutModel",
          "state": {
            "_model_module": "@jupyter-widgets/base",
            "_model_module_version": "1.2.0",
            "_model_name": "LayoutModel",
            "_view_count": null,
            "_view_module": "@jupyter-widgets/base",
            "_view_module_version": "1.2.0",
            "_view_name": "LayoutView",
            "align_content": null,
            "align_items": null,
            "align_self": null,
            "border": null,
            "bottom": null,
            "display": null,
            "flex": null,
            "flex_flow": null,
            "grid_area": null,
            "grid_auto_columns": null,
            "grid_auto_flow": null,
            "grid_auto_rows": null,
            "grid_column": null,
            "grid_gap": null,
            "grid_row": null,
            "grid_template_areas": null,
            "grid_template_columns": null,
            "grid_template_rows": null,
            "height": null,
            "justify_content": null,
            "justify_items": null,
            "left": null,
            "margin": null,
            "max_height": null,
            "max_width": null,
            "min_height": null,
            "min_width": null,
            "object_fit": null,
            "object_position": null,
            "order": null,
            "overflow": null,
            "overflow_x": null,
            "overflow_y": null,
            "padding": null,
            "right": null,
            "top": null,
            "visibility": null,
            "width": null
          }
        },
        "90c7e9f45ba047c887c22ce2a02f29a3": {
          "model_module": "@jupyter-widgets/controls",
          "model_module_version": "1.5.0",
          "model_name": "ProgressStyleModel",
          "state": {
            "_model_module": "@jupyter-widgets/controls",
            "_model_module_version": "1.5.0",
            "_model_name": "ProgressStyleModel",
            "_view_count": null,
            "_view_module": "@jupyter-widgets/base",
            "_view_module_version": "1.2.0",
            "_view_name": "StyleView",
            "bar_color": null,
            "description_width": ""
          }
        },
        "9756969b1bff43c2a41d5bd6a048edc9": {
          "model_module": "@jupyter-widgets/controls",
          "model_module_version": "1.5.0",
          "model_name": "DescriptionStyleModel",
          "state": {
            "_model_module": "@jupyter-widgets/controls",
            "_model_module_version": "1.5.0",
            "_model_name": "DescriptionStyleModel",
            "_view_count": null,
            "_view_module": "@jupyter-widgets/base",
            "_view_module_version": "1.2.0",
            "_view_name": "StyleView",
            "description_width": ""
          }
        },
        "ac7596538d5142aa83e3e560e3aa150e": {
          "model_module": "@jupyter-widgets/base",
          "model_module_version": "1.2.0",
          "model_name": "LayoutModel",
          "state": {
            "_model_module": "@jupyter-widgets/base",
            "_model_module_version": "1.2.0",
            "_model_name": "LayoutModel",
            "_view_count": null,
            "_view_module": "@jupyter-widgets/base",
            "_view_module_version": "1.2.0",
            "_view_name": "LayoutView",
            "align_content": null,
            "align_items": null,
            "align_self": null,
            "border": null,
            "bottom": null,
            "display": null,
            "flex": null,
            "flex_flow": null,
            "grid_area": null,
            "grid_auto_columns": null,
            "grid_auto_flow": null,
            "grid_auto_rows": null,
            "grid_column": null,
            "grid_gap": null,
            "grid_row": null,
            "grid_template_areas": null,
            "grid_template_columns": null,
            "grid_template_rows": null,
            "height": null,
            "justify_content": null,
            "justify_items": null,
            "left": null,
            "margin": null,
            "max_height": null,
            "max_width": null,
            "min_height": null,
            "min_width": null,
            "object_fit": null,
            "object_position": null,
            "order": null,
            "overflow": null,
            "overflow_x": null,
            "overflow_y": null,
            "padding": null,
            "right": null,
            "top": null,
            "visibility": null,
            "width": null
          }
        },
        "e16fa94ead3245c4bf75d19671e7ac6e": {
          "model_module": "@jupyter-widgets/controls",
          "model_module_version": "1.5.0",
          "model_name": "FloatProgressModel",
          "state": {
            "_dom_classes": [],
            "_model_module": "@jupyter-widgets/controls",
            "_model_module_version": "1.5.0",
            "_model_name": "FloatProgressModel",
            "_view_count": null,
            "_view_module": "@jupyter-widgets/controls",
            "_view_module_version": "1.5.0",
            "_view_name": "ProgressView",
            "bar_style": "success",
            "description": "",
            "description_tooltip": null,
            "layout": "IPY_MODEL_6c9bbd2f4b99403082fb82bf4b743809",
            "max": 111898327,
            "min": 0,
            "orientation": "horizontal",
            "style": "IPY_MODEL_90c7e9f45ba047c887c22ce2a02f29a3",
            "value": 111898327
          }
        },
        "ea41ae6da3714adcbd5262fc9dda82aa": {
          "model_module": "@jupyter-widgets/controls",
          "model_module_version": "1.5.0",
          "model_name": "DescriptionStyleModel",
          "state": {
            "_model_module": "@jupyter-widgets/controls",
            "_model_module_version": "1.5.0",
            "_model_name": "DescriptionStyleModel",
            "_view_count": null,
            "_view_module": "@jupyter-widgets/base",
            "_view_module_version": "1.2.0",
            "_view_name": "StyleView",
            "description_width": ""
          }
        },
        "fd4fc05f863d401ea6f0325ec302b8d7": {
          "model_module": "@jupyter-widgets/controls",
          "model_module_version": "1.5.0",
          "model_name": "HTMLModel",
          "state": {
            "_dom_classes": [],
            "_model_module": "@jupyter-widgets/controls",
            "_model_module_version": "1.5.0",
            "_model_name": "HTMLModel",
            "_view_count": null,
            "_view_module": "@jupyter-widgets/controls",
            "_view_module_version": "1.5.0",
            "_view_name": "HTMLView",
            "description": "",
            "description_tooltip": null,
            "layout": "IPY_MODEL_45edf350ad6446d0bbbe63190da91ed3",
            "placeholder": "​",
            "style": "IPY_MODEL_9756969b1bff43c2a41d5bd6a048edc9",
            "value": " 107M/107M [00:00&lt;00:00, 139MB/s]"
          }
        }
      }
    }
  },
  "nbformat": 4,
  "nbformat_minor": 0
}
